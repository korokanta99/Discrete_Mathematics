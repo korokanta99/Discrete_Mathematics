{
 "cells": [
  {
   "cell_type": "code",
   "execution_count": 1,
   "id": "7bd36298-f9e6-4968-9cc8-e7f0603d3038",
   "metadata": {},
   "outputs": [],
   "source": [
    "%matplotlib inline\n",
    "import matplotlib_venn as vplt\n",
    "from matplotlib import pyplot as plt"
   ]
  },
  {
   "cell_type": "code",
   "execution_count": 13,
   "id": "193078d3-d296-4a01-880e-8c3c34a478e6",
   "metadata": {},
   "outputs": [
    {
     "name": "stdout",
     "output_type": "stream",
     "text": [
      "Proving Identities\n",
      "1. A\\B = A∩B^c\n",
      "\n",
      "A = {'1', '2', '3', '4', '5'}\n",
      "B = {'4', '5', '6', '7', '8'}\n",
      "4 is in both A and B.\n",
      "4 is not in A\\B.\n",
      "4 is not in A ∩ B^c.\n"
     ]
    }
   ],
   "source": [
    "#Question 1.1\n",
    "print('Proving Identities\\n1. A\\B = A∩B^c\\n')\n",
    "\n",
    "print(\"A = {'1', '2', '3', '4', '5'}\")\n",
    "print(\"B = {'4', '5', '6', '7', '8'}\")\n",
    "\n",
    "def demonstrate_set_equivalence(A, B, x):\n",
    "    # Check if x belongs to both A and B\n",
    "    if x in A and x in B:\n",
    "        print(f\"{x} is in both A and B.\")\n",
    "    else:\n",
    "        print(f\"{x} is not in both A and B.\")\n",
    "\n",
    "    if x in A - B:\n",
    "        print(f\"{x} is in A\\B.\")\n",
    "    else:\n",
    "        print(f\"{x} is not in A\\B.\")\n",
    "\n",
    "    if x in A.intersection(B.symmetric_difference(set(A))):\n",
    "        print(f\"{x} is in A ∩ B^c.\")\n",
    "    else:\n",
    "        print(f\"{x} is not in A ∩ B^c.\")\n",
    "\n",
    "\n",
    "\n",
    "A = {'1', '2', '3', '4', '5'}\n",
    "B = {'4', '5', '6', '7', '8'}\n",
    "\n",
    "x = '4'\n",
    "\n",
    "demonstrate_set_equivalence(A, B, x)\n",
    "\n"
   ]
  },
  {
   "cell_type": "markdown",
   "id": "32f99bc8-b86a-480d-8e96-0014b56275dd",
   "metadata": {},
   "source": [
    "<b>Proof:<b> \n",
    "First, we prove that any element in $A \\setminus B$ cannot be in $A \\cap B^2$, and therefore $A \\setminus B$ is a subset of $A \\cap B^2$. Next, we establish that any element in $A \\cap B^2$ is also in $A \\setminus B$, which implies that $A \\cap B^2$ is a subset of $A \\setminus B$. Having shown both directions, we conclude that $A \\setminus B$ and $A \\cap B^2$ are equal.\n"
   ]
  },
  {
   "cell_type": "code",
   "execution_count": 17,
   "id": "e2220cd4-56bf-4493-a7a9-b77f5cf87e9d",
   "metadata": {},
   "outputs": [
    {
     "name": "stdout",
     "output_type": "stream",
     "text": [
      "(B ∩ A) ∪ (B ∩ A^c)\n",
      "\n",
      "A = {'a', 'b', 'c', 'd', 'e'}\n",
      "B = {'d', 'e', 'f', 'g', 'h'}\n",
      "d is in both A and B.\n",
      "The equivalence B = (B ∩ A) ∪ (B ∩ A^c) does not hold.\n",
      "To prove B=(B∩A)∪(B∩A^c)B=(B∩A)∪(B∩Ac), where x belongs to both sets A and B, we show that any element b in B is in (B∩A)∪(B∩A), and vice versa. \n",
      "This confirms that the sets have identical elements, establishing their equality.\n"
     ]
    }
   ],
   "source": [
    "#Question 1.2\n",
    "print('Proving Identities\\n2.(B ∩ A) ∪ (B ∩ A^c)\\n')\n",
    "print(\"A = {'a', 'b', 'c', 'd', 'e'}\")\n",
    "print(\"B = {'d', 'e', 'f', 'g', 'h'}\")\n",
    "def demonstrate_set_equivalence(A, B, x):\n",
    "    # Check if x belongs to both A and B\n",
    "    if x in A and x in B:\n",
    "        print(f\"{x} is in both A and B.\")\n",
    "    else:\n",
    "        print(f\"{x} is not in both A and B.\")\n",
    "\n",
    "    # Left side: B\n",
    "    lhs = B\n",
    "\n",
    "    # Right side: (B ∩ A) ∪ (B ∩ A^c)\n",
    "    rhs = (B.intersection(A)) | (B.intersection(A.symmetric_difference(set(A))))\n",
    "\n",
    "    if lhs == rhs:\n",
    "        print(\"The equivalence B = (B ∩ A) ∪ (B ∩ A^c) holds.\")\n",
    "    else:\n",
    "        print(\"The equivalence B = (B ∩ A) ∪ (B ∩ A^c) does not hold.\")\n",
    "\n",
    "\n",
    "\n",
    "A = {'a', 'b', 'c', 'd', 'e'}\n",
    "B = {'d', 'e', 'f', 'g', 'h'}\n",
    "\n",
    "x = 'd'\n",
    "\n",
    "demonstrate_set_equivalence(A, B, x)\n",
    "\n"
   ]
  },
  {
   "cell_type": "markdown",
   "id": "0bfa7170-7d02-44db-8930-de79dd9fe598",
   "metadata": {},
   "source": [
    "<b>Proof:<b>\n",
    "To prove $B is equal to (B \\cap A) \\cup (B \\cap A^c)$, where $x$ belongs to both sets $A$ and $B$, we show that any element $b$ in $B$ is in $(B \\cap A) \\cup (B \\cap A^c)$, and vice versa.\n",
    "This confirms that the sets have identical elements, establishing their equality.\n"
   ]
  },
  {
   "cell_type": "code",
   "execution_count": 22,
   "id": "036e8e7c-0538-4ae7-8810-45f1f637e017",
   "metadata": {},
   "outputs": [
    {
     "name": "stdout",
     "output_type": "stream",
     "text": [
      "Proving Identities\n",
      "3. (B\\A)∪(B∩A^c)\n",
      "\n",
      "A = {1, 2, 3, 4}\n",
      "B = {3, 4, 5, 6}\n",
      "B\\A = {5, 6}\n",
      "B ∩ A^c = {5, 6}\n",
      "Are B\\A and B ∩ A^c equal? True\n"
     ]
    }
   ],
   "source": [
    "#Question 1.3\n",
    "print('Proving Identities\\n3. (B\\A)∪(B∩A^c)\\n')\n",
    "# Given sets A and B\n",
    "print(\"A = {1, 2, 3, 4}\")\n",
    "print(\"B = {3, 4, 5, 6}\")\n",
    "A = {1, 2, 3, 4}\n",
    "B = {3, 4, 5, 6}\n",
    "\n",
    "# Calculate B\\A (elements in B but not in A)\n",
    "B_minus_A = B - A\n",
    "\n",
    "# Calculate B ∩ A^c (intersection of B and complement of A)\n",
    "B_intersection_A_complement = B.intersection(set(x for x in range(min(B), max(B)+1) if x not in A))\n",
    "\n",
    "# Check if both sets are equal\n",
    "are_equal = B_minus_A == B_intersection_A_complement\n",
    "\n",
    "print(\"B\\A =\", B_minus_A)\n",
    "print(\"B ∩ A^c =\", B_intersection_A_complement)\n",
    "print(\"Are B\\A and B ∩ A^c equal?\", are_equal)\n",
    "\n",
    "\n"
   ]
  },
  {
   "cell_type": "markdown",
   "id": "64432d5d-45f0-4d5e-b2d0-fd09dfc8a7f9",
   "metadata": {},
   "source": [
    "<b>Proof:<b>\n",
    "We first show that any element in B∖A is also in B∩A^c. This is because an element x in B∖A is in B but not in A, so it satisfies the conditions for being in B∩A^c."
   ]
  },
  {
   "cell_type": "code",
   "execution_count": 20,
   "id": "d6cb0516-b312-420d-a929-b2c6679523d1",
   "metadata": {},
   "outputs": [
    {
     "name": "stdout",
     "output_type": "stream",
     "text": [
      "4. A ∪ B = A ∪ (B∩A^c)\n",
      "\n",
      "A = {1, 2, 3}\n",
      "B = {3, 4, 5}\n",
      "A ∪ B = {1, 2, 3, 4, 5}\n",
      "A ∪ (B ∩ A^c) = {1, 2, 3, 4, 5}\n",
      "Are A ∪ B and A ∪ (B ∩ A^c) equal? True\n"
     ]
    }
   ],
   "source": [
    "#Question 1.4\n",
    "print('Proving Identities\\n4. A ∪ B = A ∪ (B∩A^c)\\n')\n",
    "# Given sets A and B\n",
    "print(\"A = {1, 2, 3}\")\n",
    "print(\"B = {3, 4, 5}\")\n",
    "A = {1, 2, 3}\n",
    "B = {3, 4, 5}\n",
    "\n",
    "# Calculate A ∪ B (union of A and B)\n",
    "A_union_B = A.union(B)\n",
    "\n",
    "# Calculate B ∩ A^c (intersection of B and complement of A)\n",
    "B_intersection_A_complement = B.intersection(set(x for x in B if x not in A))\n",
    "\n",
    "# Calculate A ∪ (B ∩ A^c)\n",
    "A_union_B_intersection_A_complement = A.union(B_intersection_A_complement)\n",
    "\n",
    "# Check if both sets are equal\n",
    "are_equal = A_union_B == A_union_B_intersection_A_complement\n",
    "\n",
    "print(\"A ∪ B =\", A_union_B)\n",
    "print(\"A ∪ (B ∩ A^c) =\", A_union_B_intersection_A_complement)\n",
    "print(\"Are A ∪ B and A ∪ (B ∩ A^c) equal?\", are_equal)\n"
   ]
  },
  {
   "cell_type": "code",
   "execution_count": 6,
   "id": "f768359e-13d9-4266-9403-3fa0c52e2dff",
   "metadata": {},
   "outputs": [
    {
     "name": "stdout",
     "output_type": "stream",
     "text": [
      "Complement of union of complements: set()\n",
      "Intersection of the sets: {3}\n",
      "Are both sides equal? False\n",
      "The equation you provided, known as De Morgan's Law, states that the complement of the union of sets' complements is\n",
      "equal to the intersection of the sets themselves.\n"
     ]
    }
   ],
   "source": [
    "#Question 1.5\n",
    "# Given finite sets A_i for i = 1 to n\n",
    "n = 3  # Number of sets\n",
    "A = [{1, 2, 3}, {2, 3, 4}, {3, 4, 5}]\n",
    "\n",
    "# Calculate the left side: complement of the union of complements\n",
    "left_hand_side = set()\n",
    "for i in range(n):\n",
    "    left_hand_side |= A[i]\n",
    "\n",
    "complement_left_hand_side = set(x for x in range(1, max(left_hand_side) + 1) if x not in left_hand_side)\n",
    "\n",
    "# Calculate the right side: intersection of the sets\n",
    "right_hand_side = A[0]\n",
    "for i in range(1, n):\n",
    "    right_hand_side &= A[i]\n",
    "\n",
    "# Check if both sides are equal\n",
    "are_equal = complement_left_hand_side == right_hand_side\n",
    "\n",
    "print(\"Complement of union of complements:\", complement_left_hand_side)\n",
    "print(\"Intersection of the sets:\", right_hand_side)\n",
    "print(\"Are both sides equal?\", are_equal)\n",
    "\n"
   ]
  },
  {
   "cell_type": "markdown",
   "id": "9b50eb14-53d3-4db4-aa89-81fcf679194c",
   "metadata": {},
   "source": [
    "<b>Proof:<b>\n",
    "The equation you provided, known as De Morgan's Law, states that the complement of the union of sets' complements is\\nequal to the intersection of the sets themselves."
   ]
  },
  {
   "cell_type": "code",
   "execution_count": 24,
   "id": "142471ef-2ce9-4029-8d98-85e6a7fc2f2f",
   "metadata": {},
   "outputs": [
    {
     "name": "stdout",
     "output_type": "stream",
     "text": [
      "Proving Identities\n",
      "6. ∥A∪B∥=∥A∥+∥B∥-∥A∩B∥\n",
      "\n",
      "A = {1, 2, 3, 4}\n",
      "B = {3, 4, 5, 6}\n",
      "|A ∪ B| = 6\n",
      "|A| + |B| - |A ∩ B| = 6\n",
      "Are both sides equal? True\n"
     ]
    }
   ],
   "source": [
    "#Question 1.6\n",
    "print('Proving Identities\\n6. ∥A∪B∥=∥A∥+∥B∥-∥A∩B∥\\n')\n",
    "# Given sets A and B\n",
    "print(\"A = {1, 2, 3, 4}\")\n",
    "print(\"B = {3, 4, 5, 6}\")\n",
    "A = {1, 2, 3, 4}\n",
    "B = {3, 4, 5, 6}\n",
    "\n",
    "# Calculate the cardinality of A ∪ B\n",
    "union_cardinality = len(A.union(B))\n",
    "\n",
    "# Calculate the cardinalities of A and B\n",
    "cardinality_A = len(A)\n",
    "cardinality_B = len(B)\n",
    "\n",
    "# Calculate the cardinality of A ∩ B\n",
    "intersection_cardinality = len(A.intersection(B))\n",
    "\n",
    "# Calculate the right side of the equation\n",
    "rhs = cardinality_A + cardinality_B - intersection_cardinality\n",
    "\n",
    "# Check if both sides are equal\n",
    "are_equal = union_cardinality == rhs\n",
    "\n",
    "print(\"|A ∪ B| =\", union_cardinality)\n",
    "print(\"|A| + |B| - |A ∩ B| =\", rhs)\n",
    "print(\"Are both sides equal?\", are_equal)\n",
    "\n",
    "\n"
   ]
  },
  {
   "cell_type": "markdown",
   "id": "18a21e5e-c4b1-4a1c-8133-227a67f9ea3d",
   "metadata": {},
   "source": [
    "<b> Proof:<b>\n",
    "The equation ∥A∪B∥=∥A∥+∥B∥-∥A∩B∥ is proven by recognizing that the size of the union of sets A and B equals the\n",
    "sum of their individual sizes minus the size of their shared elements."
   ]
  },
  {
   "cell_type": "markdown",
   "id": "798f16b6-426f-4106-bf49-627aa2049ae4",
   "metadata": {},
   "source": [
    "<b>Question#02 Sets and Subsets<b>\n",
    "\n",
    "1. A ⊆ B? No, set A = {2, 3, 4, 5} is not a subset of set B = {x ∈ ℕ | x is even} because A contains odd numbers as well.\n",
    "2. Finding Set X:\n",
    "X = {4, 5}\n",
    "Conditions Satisfied:\n",
    "X and B are disjoint (no common elements).\n",
    "X ⊆ D (subset of D).\n",
    "X ⊈ B (not a subset of B).\n",
    "X ⊆ A (subset of A).\n",
    "X ⊈ C (not a subset of C)."
   ]
  },
  {
   "cell_type": "markdown",
   "id": "1189b369-5afd-4f60-9423-896ba4ac834d",
   "metadata": {},
   "source": [
    "# Question 3\r\n",
    "\\section*{3. Set of Operations}\r\n",
    "\r\n",
    "Given sets:\r\n",
    "\\[\r\n",
    "U = \\{1,2,3,4,5\\}, \\quad A = \\{1,2,3,4,5\\}, \\quad B = \\{4,5,6,7\\}, \\quad C = \\{5,6,7,8,9\\}, \\quad D = \\{1,3,5,7,9\\}, \\quad E = \\{2,4,6,8\\}, \\quad F = \\{1,5,9\\}\r\n",
    "\\]\r\n",
    "\r\n",
    "### C ⊕ D\r\n",
    "\\[\r\n",
    "(C - D) \\cup (D - C) = \\{6, 8\\} \\cup \\{1, 3\\} = \\{1, 3, 6, 8\\}\r\n",
    "\\]\r\n",
    "\r\n",
    "### A\\B\r\n",
    "\\[\r\n",
    "A - B = \\{1,2,3\\}\r\n",
    "\\]\r\n",
    "\r\n",
    "### B\\A\r\n",
    "\\[\r\n",
    "B - A = \\{6,7\\}\r\n",
    "\\]\r\n",
    "\r\n",
    "### E ⊕ F\r\n",
    "\\[\r\n",
    "(E - F) \\cup (F - E) = \\{2, 4, 6, 8\\} \\cup \\{1, 5, 9\\} = \\{1, 2, 4, 5, 6, 8, 9\\}\r\n",
    "\\]\r\n",
    "{1,5,9}\\{1, 2, 4, 5, 6, 8, 9\\}\r\n",
    "\\]"
   ]
  },
  {
   "cell_type": "code",
   "execution_count": 25,
   "id": "31d2aaf1-9cf3-44f7-a84f-dd87e12476a5",
   "metadata": {},
   "outputs": [
    {
     "name": "stdout",
     "output_type": "stream",
     "text": [
      "Pythonic Solutions\n",
      "C ⊕ D: {8, 1, 3, 6}\n",
      "A\\B: {1, 2, 3}\n",
      "B\\A: {6, 7}\n",
      "E ⊕ F: {1, 2, 4, 5, 6, 8, 9}\n"
     ]
    }
   ],
   "source": [
    "print(\"Pythonic Solutions\")\n",
    "U = {1, 2, 3, 4, 5}\n",
    "A = {1, 2, 3, 4, 5}\n",
    "B = {4, 5, 6, 7}\n",
    "C = {5, 6, 7, 8, 9}\n",
    "D = {1, 3, 5, 7, 9}\n",
    "E = {2, 4, 6, 8}\n",
    "F = {1, 5, 9}\n",
    "\n",
    "# C ⊕ D\n",
    "CD = (C - D) | (D - C)\n",
    "print(\"C ⊕ D:\", CD)\n",
    "\n",
    "# A\\B\n",
    "AB = A - B\n",
    "print(\"A\\\\B:\", AB)\n",
    "\n",
    "# B\\A\n",
    "BA = B - A\n",
    "print(\"B\\\\A:\", BA)\n",
    "\n",
    "# E ⊕ F\n",
    "EF = (E - F) | (F - E)\n",
    "print(\"E ⊕ F:\",EF)\n",
    "\n",
    "\n",
    "\n",
    "\n",
    "\n"
   ]
  },
  {
   "cell_type": "code",
   "execution_count": 28,
   "id": "621d4de9-1148-4b0d-a268-7172995fc46c",
   "metadata": {},
   "outputs": [
    {
     "data": {
      "image/png": "[encoded data removed]",
      "text/plain": [
       "<Figure size 640x480 with 1 Axes>"
      ]
     },
     "metadata": {},
     "output_type": "display_data"
    }
   ],
   "source": [
    "from matplotlib import pyplot as plt\n",
    "from matplotlib_venn import venn3\n",
    "\n",
    "venn = venn3(subsets=(65, 45, 20, 42, 25, 15, 8), set_labels=('Newsweek', 'Times', 'Fortune'))\n",
    "\n",
    "plt.title(\"Magazine\")\n",
    "plt.show()\n",
    "\n"
   ]
  },
  {
   "cell_type": "markdown",
   "id": "57045caf-84f9-48de-8a06-6671e8f9d44f",
   "metadata": {},
   "source": [
    "Question 1 <br>\n",
    "Find the number of people who read at \"least one\" of the three magazines:<br>\n",
    "|Newsweek  ∪ Times  ∪ Fortune| = |Newsweek| + |Times| + |Fortune| - |Newsweek ∩  Times| - |Newsweek ∩  Fortune| - |Times ∩  Fortune| + |Newsweek ∩  Times ∩  Fortune|<br>\n",
    " 65 + 45 + 42 - 25 - 20 - 15 + 8 = 100\n",
    "\n",
    "Question 2<br>\n",
    "Find the number of people who read exactly one magazine:<br>\n",
    "Newsweek<br>\n",
    "|Newsweek| - |Newsweek ∩  Fortune| - |Newsweek ∩  Times| + |Newsweek ∩  Times ∩  Fortune|<br>\n",
    "= 65 - 25 - 20 + 8 = 28\n",
    "      \n",
    "Times<br>\n",
    "|Times| - |Times ∩  Fortune| - |Times ∩  Newsweek| + |Newsweek ∩ Times ∩  Fortune|<br>\n",
    "= 45 - 15 - 20 + 8 = 18\n",
    "\n",
    "Fortune<br>\n",
    "|Times| - |Times ∩ Fortune| - |Times ∩  Newsweek| + |Newsweek ∩  Times ∩  Fortune| <br>\n",
    "= 45 - 15 - 20 + 8 = 18"
   ]
  },
  {
   "cell_type": "code",
   "execution_count": 37,
   "id": "995cd193-194c-4a12-97c7-95202f0be302",
   "metadata": {},
   "outputs": [
    {
     "data": {
      "image/png": "[encoded data removed]",
      "text/plain": [
       "<Figure size 640x480 with 1 Axes>"
      ]
     },
     "metadata": {},
     "output_type": "display_data"
    }
   ],
   "source": [
    "from matplotlib import pyplot as plt\n",
    "from matplotlib_venn import venn3\n",
    "\n",
    "# Create the Venn diagram\n",
    "venn = venn3(subsets=(15, 12, 9, 11, 5, 4, 3), set_labels=('Air-conditioning', 'Radio', 'Power windows'))\n",
    "\n",
    "\n",
    "plt.title(\"Car\")\n",
    "plt.show()"
   ]
  },
  {
   "cell_type": "markdown",
   "id": "ece7edf3-790d-4875-98f9-148e2014664e",
   "metadata": {},
   "source": [
    "Find the number of cars with W only:<br>\n",
    "|W| - |W ∩ A| - |W ∩ R| + |W ∩ R ∩ A|<br>\n",
    "= 11 - 5 - 4 + 3 = 5 <br>\n",
    "\n",
    "Find the number of cars with A only:<br>\n",
    "|A| - |W ∩ A| - |A ∩ R| + |W ∩ R ∩ A| <br>\n",
    "= 15 - 5 - 9 + 3 = 4 <br>\n",
    "\n",
    "Find the number of cars with R only:<br>\n",
    "|R| - |R ∩ A| - |R ∩ W| + |W ∩ R ∩ A|<br> \n",
    "= 12 - 9 - 4 + 3 =2<br>\n",
    "\n",
    "<br>Find the number of cars with both R and W but not A:<br>\n",
    "|W ∩ R| - |W ∩ R ∩ A|<br>\n",
    "= 4 - 3 = 1<br>\n",
    "\n",
    "Find the number of cars with both A and R but not W:<br>\n",
    "|A ∩ R| - |W ∩ R ∩ A|<br>\n",
    "= 9 - 3 = 6<br>\n",
    "\n",
    "Find the number of cars with only one of the options:<br>\n",
    "|A  only | + |W only | + |R  only |<br> \n",
    "= 5 + 4 + 2 = 11<br>\n",
    "\n",
    "Find the number of cars with at least one option:<br>\n",
    "|A ∪ R ∪ W| = |A| + |R| + |W| - |A ∩ W| - |A ∩ R| - |W ∩ R| + |A ∩ W ∩ R|<br>\n",
    "= 15 + 11 + 12 - 5 - 9 - 4 + 3 = 23<br>\n",
    "\n",
    "Find the number of cars with none of the options:<br>\n",
    "\n",
    "|𝓊| - |A ∪ R ∪ W|<br>\n",
    "= 25 - 23 = 2<br>"
   ]
  },
  {
   "cell_type": "code",
   "execution_count": null,
   "id": "f7bec93b-aa38-43f0-ac04-2e83c4fb8ac1",
   "metadata": {},
   "outputs": [],
   "source": []
  }
 ],
 "metadata": {
  "kernelspec": {
   "display_name": "Python 3 (ipykernel)",
   "language": "python",
   "name": "python3"
  },
  "language_info": {
   "codemirror_mode": {
    "name": "ipython",
    "version": 3
   },
   "file_extension": ".py",
   "mimetype": "text/x-python",
   "name": "python",
   "nbconvert_exporter": "python",
   "pygments_lexer": "ipython3",
   "version": "3.11.4"
  }
 },
 "nbformat": 4,
 "nbformat_minor": 5
}
